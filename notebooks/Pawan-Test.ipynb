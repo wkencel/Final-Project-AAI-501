{
 "cells": [
  {
   "cell_type": "code",
   "execution_count": 1,
   "metadata": {},
   "outputs": [],
   "source": [
    "import tensorflow as tf\n",
    "import keras_cv\n",
    "import tensorflow_datasets as tfds\n",
    "import keras"
   ]
  },
  {
   "cell_type": "code",
   "execution_count": 2,
   "metadata": {},
   "outputs": [],
   "source": [
    "BATCH_SIZE = 16\n",
    "NUM_CLASSES = 3\n",
    "NUM_CLASSES_WASTE = 6\n",
    "IMAGE_SIZE = (180, 180)"
   ]
  },
  {
   "cell_type": "code",
   "execution_count": 3,
   "metadata": {},
   "outputs": [],
   "source": [
    "# Create a preprocessing pipeline with augmentations\n",
    "\n",
    "augmenter = keras_cv.layers.Augmenter(\n",
    "    [\n",
    "        keras_cv.layers.RandomFlip(),\n",
    "        keras_cv.layers.RandAugment(value_range=(0, 255)),\n",
    "        keras_cv.layers.CutMix(),\n",
    "    ],\n",
    ")\n",
    "\n",
    "def preprocess_data(images, labels, augment=False):\n",
    "    labels = tf.one_hot(labels, NUM_CLASSES)\n",
    "    inputs = {\"images\": images, \"labels\": labels}\n",
    "    outputs = inputs\n",
    "    if augment:\n",
    "        outputs = augmenter(outputs)\n",
    "    return outputs['images'], outputs['labels']\n",
    "\n"
   ]
  },
  {
   "cell_type": "code",
   "execution_count": 4,
   "metadata": {},
   "outputs": [],
   "source": [
    "rps_train_dataset, rps_test_dataset = tfds.load(\n",
    "    'rock_paper_scissors',\n",
    "    as_supervised=True,\n",
    "    split=['train', 'test'],\n",
    ")\n",
    "\n",
    "rps_train_dataset = rps_train_dataset.batch(BATCH_SIZE).map(\n",
    "    lambda x, y: preprocess_data(x, y, augment=True),\n",
    "        num_parallel_calls=tf.data.AUTOTUNE).prefetch(\n",
    "            tf.data.AUTOTUNE)\n",
    "rps_test_dataset = rps_test_dataset.batch(BATCH_SIZE).map(\n",
    "    preprocess_data, num_parallel_calls=tf.data.AUTOTUNE).prefetch(\n",
    "        tf.data.AUTOTUNE)\n"
   ]
  },
  {
   "cell_type": "code",
   "execution_count": 6,
   "metadata": {},
   "outputs": [],
   "source": [
    "# Create a model using a pretrained backbone\n",
    "rps_backbone = keras_cv.models.EfficientNetV2Backbone.from_preset(\n",
    "    \"efficientnetv2_b0_imagenet\"\n",
    ")\n",
    "rps_model = keras_cv.models.ImageClassifier(\n",
    "    backbone=rps_backbone,\n",
    "    num_classes=NUM_CLASSES,\n",
    "    activation=\"softmax\",\n",
    ")\n",
    "rps_model.compile(\n",
    "    loss='categorical_crossentropy',\n",
    "    optimizer=keras.optimizers.Adam(learning_rate=1e-5),\n",
    "    metrics=['accuracy']\n",
    ")"
   ]
  },
  {
   "cell_type": "code",
   "execution_count": 7,
   "metadata": {},
   "outputs": [],
   "source": [
    "# Train your model\n",
    "rps_model.fit(\n",
    "    rps_train_dataset,\n",
    "    validation_data=rps_test_dataset,\n",
    "    epochs=1,\n",
    ")"
   ]
  }
 ],
 "metadata": {
  "kernelspec": {
   "display_name": "base",
   "language": "python",
   "name": "python3"
  },
  "language_info": {
   "codemirror_mode": {
    "name": "ipython",
    "version": 3
   },
   "file_extension": ".py",
   "mimetype": "text/x-python",
   "name": "python",
   "nbconvert_exporter": "python",
   "pygments_lexer": "ipython3",
   "version": "3.11.5"
  }
 },
 "nbformat": 4,
 "nbformat_minor": 2
}
