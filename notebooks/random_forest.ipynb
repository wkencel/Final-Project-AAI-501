{
 "cells": [
  {
   "attachments": {},
   "cell_type": "markdown",
   "metadata": {},
   "source": [
    "# Image Classification Using Random Forests"
   ]
  },
  {
   "cell_type": "markdown",
   "metadata": {},
   "source": [
    "## Imports"
   ]
  },
  {
   "cell_type": "code",
   "execution_count": 2,
   "metadata": {},
   "outputs": [],
   "source": [
    "# First, let’s import the required packages as follows\n",
    "\n",
    "import os\n",
    "import numpy as np\n",
    "from skimage import io, transform\n",
    "from sklearn.model_selection import train_test_split\n",
    "from sklearn.ensemble import RandomForestClassifier\n",
    "from sklearn.metrics import accuracy_score\n",
    "from sklearn.preprocessing import LabelEncoder"
   ]
  },
  {
   "cell_type": "code",
   "execution_count": 3,
   "metadata": {},
   "outputs": [],
   "source": [
    "# Assuming you have downloaded and extracted the dataset locally\n",
    "data_dir = \"../data/trash_images\"\n",
    "\n",
    "# Function to load and preprocess images\n",
    "# We will resize the images to 64x64 pixels and flatten them to a 1-D numpy array\n",
    "def load_images(folder):\n",
    "    images = []\n",
    "    labels = []\n",
    "    for subdir, _, files in os.walk(folder):\n",
    "        for file in files:\n",
    "            img_path = os.path.join(subdir, file)\n",
    "            label = os.path.basename(subdir)\n",
    "            img = io.imread(img_path)\n",
    "            img = transform.resize(img, (64, 64))  # Resize images to a consistent size\n",
    "            images.append(img.flatten())  # Flatten the image\n",
    "            labels.append(label)\n",
    "    return np.array(images), np.array(labels)"
   ]
  },
  {
   "cell_type": "markdown",
   "metadata": {},
   "source": [
    "## Data PreProcessing"
   ]
  },
  {
   "cell_type": "code",
   "execution_count": 4,
   "metadata": {},
   "outputs": [],
   "source": [
    "\n",
    "# Function to train and evaluate a random forest classifier\n",
    "# Load images and labels\n",
    "images, labels = load_images(data_dir)\n",
    "\n",
    "# Encode labels into numerical values\n",
    "label_encoder = LabelEncoder()\n",
    "encoded_labels = label_encoder.fit_transform(labels)\n",
    "\n",
    "\n",
    "# Split the data into training and testing sets\n",
    "X_train, X_test, y_train, y_test = train_test_split(images, encoded_labels, test_size=0.2, random_state=42)\n"
   ]
  },
  {
   "attachments": {},
   "cell_type": "markdown",
   "metadata": {},
   "source": [
    "# Implementing a Random Forest Classifier\n",
    "\n",
    "Let’s build a Random Forest Classifier to classify the images."
   ]
  },
  {
   "cell_type": "code",
   "execution_count": 9,
   "metadata": {},
   "outputs": [
    {
     "name": "stdout",
     "output_type": "stream",
     "text": [
      "Accuracy: 68.97%\n"
     ]
    }
   ],
   "source": [
    "# Train and evaluate a random forest classifier\n",
    "\n",
    "# Initialize the Random Forest Classifier\n",
    "rf_classifier = RandomForestClassifier(n_estimators=100, random_state=42)\n",
    "\n",
    "# Train the classifier\n",
    "rf_classifier.fit(X_train, y_train)\n",
    "\n",
    "# Make predictions on the test set\n",
    "y_pred = rf_classifier.predict(X_test)\n",
    "\n",
    "# Evaluate the accuracy\n",
    "accuracy = accuracy_score(y_test, y_pred)\n",
    "print(f\"Accuracy: {accuracy * 100:.2f}%\")"
   ]
  },
  {
   "cell_type": "code",
   "execution_count": 7,
   "metadata": {},
   "outputs": [
    {
     "name": "stdout",
     "output_type": "stream",
     "text": [
      "The predicted class for the given image is: ['cardboard']\n"
     ]
    }
   ],
   "source": [
    "# Test with an image\n",
    "test_image_path = \"../data/trash_images/cardboard/cardboard_015.jpg\"\n",
    "test_image = io.imread(test_image_path)\n",
    "img = transform.resize(test_image, (64, 64))  # Resize images to a consistent size\n",
    "img = img.flatten()\n",
    "img = img.reshape(1, -1)\n",
    "prediction = rf_classifier.predict(img)\n",
    "label = label_encoder.inverse_transform(prediction)\n",
    "print(f'The predicted class for the given image is: {label}')\n"
   ]
  },
  {
   "cell_type": "code",
   "execution_count": 23,
   "metadata": {},
   "outputs": [
    {
     "name": "stdout",
     "output_type": "stream",
     "text": [
      "The predicted class for the given image is: ['metal']\n"
     ]
    }
   ],
   "source": [
    "# test with another image\n",
    "test_image_path = \"../data/trash_images/metal/metal_003.jpg\"\n",
    "test_image = io.imread(test_image_path)\n",
    "img = transform.resize(test_image, (64, 64))  # Resize images to a consistent size\n",
    "img = img.flatten()\n",
    "img = img.reshape(1, -1)\n",
    "prediction = rf_classifier.predict(img)\n",
    "label = label_encoder.inverse_transform(prediction)\n",
    "print(f'The predicted class for the given image is: {label}')"
   ]
  }
 ],
 "metadata": {
  "kernelspec": {
   "display_name": "Python 3 (ipykernel)",
   "language": "python",
   "name": "python3"
  },
  "language_info": {
   "codemirror_mode": {
    "name": "ipython",
    "version": 3
   },
   "file_extension": ".py",
   "mimetype": "text/x-python",
   "name": "python",
   "nbconvert_exporter": "python",
   "pygments_lexer": "ipython3",
   "version": "3.11.5"
  }
 },
 "nbformat": 4,
 "nbformat_minor": 2
}
