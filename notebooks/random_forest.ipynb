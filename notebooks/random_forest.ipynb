{
 "cells": [
  {
   "attachments": {},
   "cell_type": "markdown",
   "metadata": {},
   "source": [
    "# Image Classification Using Random Forests"
   ]
  },
  {
   "cell_type": "markdown",
   "metadata": {},
   "source": [
    "## Imports"
   ]
  },
  {
   "cell_type": "code",
   "execution_count": 1,
   "metadata": {
    "ExecuteTime": {
     "end_time": "2023-12-04T15:17:49.748688Z",
     "start_time": "2023-12-04T15:17:46.916069Z"
    }
   },
   "outputs": [],
   "source": [
    "# First, let’s import the required packages as follows\n",
    "\n",
    "import os\n",
    "import numpy as np\n",
    "from skimage import io, transform\n",
    "from sklearn.model_selection import train_test_split\n",
    "from sklearn.ensemble import RandomForestClassifier\n",
    "from sklearn.metrics import accuracy_score\n",
    "from sklearn.preprocessing import LabelEncoder"
   ]
  },
  {
   "cell_type": "code",
   "execution_count": 2,
   "metadata": {
    "ExecuteTime": {
     "end_time": "2023-12-04T15:17:51.669898Z",
     "start_time": "2023-12-04T15:17:51.658118Z"
    }
   },
   "outputs": [],
   "source": [
    "# Assuming you have downloaded and extracted the dataset locally\n",
    "data_dir = \"../data/trash_images\"\n",
    "\n",
    "# Function to load and preprocess images\n",
    "# We will resize the images to 64x64 pixels and flatten them to a 1-D numpy array\n",
    "def load_images(folder):\n",
    "    images = []\n",
    "    labels = []\n",
    "    for subdir, _, files in os.walk(folder):\n",
    "        for file in files:\n",
    "            img_path = os.path.join(subdir, file)\n",
    "            label = os.path.basename(subdir)\n",
    "            img = io.imread(img_path)\n",
    "            img = transform.resize(img, (64, 64))  # Resize images to a consistent size\n",
    "            images.append(img.flatten())  # Flatten the image\n",
    "            labels.append(label)\n",
    "    return np.array(images), np.array(labels)"
   ]
  },
  {
   "cell_type": "markdown",
   "metadata": {},
   "source": [
    "## Data PreProcessing"
   ]
  },
  {
   "cell_type": "code",
   "execution_count": 3,
   "metadata": {
    "ExecuteTime": {
     "end_time": "2023-12-04T15:18:23.545007Z",
     "start_time": "2023-12-04T15:17:55.105449Z"
    }
   },
   "outputs": [],
   "source": [
    "\n",
    "# Function to train and evaluate a random forest classifier\n",
    "# Load images and labels\n",
    "images, labels = load_images(data_dir)\n",
    "\n",
    "# Encode labels into numerical values\n",
    "label_encoder = LabelEncoder()\n",
    "encoded_labels = label_encoder.fit_transform(labels)\n",
    "\n",
    "\n",
    "# Split the data into training and testing sets\n",
    "X_train, X_test, y_train, y_test = train_test_split(images, encoded_labels, test_size=0.2, random_state=42)\n"
   ]
  },
  {
   "attachments": {},
   "cell_type": "markdown",
   "metadata": {},
   "source": [
    "# Implementing a Random Forest Classifier\n",
    "\n",
    "Let’s build a Random Forest Classifier to classify the images."
   ]
  },
  {
   "cell_type": "code",
   "execution_count": 4,
   "metadata": {
    "ExecuteTime": {
     "end_time": "2023-12-04T15:18:38.806922Z",
     "start_time": "2023-12-04T15:18:27.678273Z"
    }
   },
   "outputs": [
    {
     "name": "stdout",
     "output_type": "stream",
     "text": [
      "Accuracy: 68.97%\n"
     ]
    }
   ],
   "source": [
    "# Train and evaluate a random forest classifier\n",
    "\n",
    "# Initialize the Random Forest Classifier\n",
    "rf_classifier = RandomForestClassifier(n_estimators=100, random_state=42)\n",
    "\n",
    "# Train the classifier\n",
    "rf_classifier.fit(X_train, y_train)\n",
    "\n",
    "# Make predictions on the test set\n",
    "y_pred = rf_classifier.predict(X_test)\n",
    "\n",
    "# Evaluate the accuracy\n",
    "accuracy = accuracy_score(y_test, y_pred)\n",
    "print(f\"Accuracy: {accuracy * 100:.2f}%\")"
   ]
  },
  {
   "cell_type": "code",
   "execution_count": 5,
   "metadata": {
    "ExecuteTime": {
     "end_time": "2023-12-04T15:18:48.524220Z",
     "start_time": "2023-12-04T15:18:48.484767Z"
    }
   },
   "outputs": [
    {
     "name": "stdout",
     "output_type": "stream",
     "text": [
      "The predicted class for the given image is: ['cardboard']\n"
     ]
    }
   ],
   "source": [
    "# Test with an image\n",
    "test_image_path = \"../data/trash_images/cardboard/cardboard_015.jpg\"\n",
    "test_image = io.imread(test_image_path)\n",
    "img = transform.resize(test_image, (64, 64))  # Resize images to a consistent size\n",
    "img = img.flatten()\n",
    "img = img.reshape(1, -1)\n",
    "prediction = rf_classifier.predict(img)\n",
    "label = label_encoder.inverse_transform(prediction)\n",
    "print(f'The predicted class for the given image is: {label}')\n"
   ]
  },
  {
   "cell_type": "code",
   "execution_count": 6,
   "metadata": {
    "ExecuteTime": {
     "end_time": "2023-12-04T15:18:51.117077Z",
     "start_time": "2023-12-04T15:18:51.074429Z"
    }
   },
   "outputs": [
    {
     "name": "stdout",
     "output_type": "stream",
     "text": [
      "The predicted class for the given image is: ['metal']\n"
     ]
    }
   ],
   "source": [
    "# test with another image\n",
    "test_image_path = \"../data/trash_images/metal/metal_003.jpg\"\n",
    "test_image = io.imread(test_image_path)\n",
    "img = transform.resize(test_image, (64, 64))  # Resize images to a consistent size\n",
    "img = img.flatten()\n",
    "img = img.reshape(1, -1)\n",
    "prediction = rf_classifier.predict(img)\n",
    "label = label_encoder.inverse_transform(prediction)\n",
    "print(f'The predicted class for the given image is: {label}')"
   ]
  },
  {
   "cell_type": "code",
   "execution_count": 9,
   "outputs": [
    {
     "data": {
      "text/plain": "<Figure size 640x480 with 1 Axes>",
      "image/png": "[encoded data removed]"
     },
     "metadata": {},
     "output_type": "display_data"
    },
    {
     "data": {
      "text/plain": "<Figure size 640x480 with 0 Axes>"
     },
     "metadata": {},
     "output_type": "display_data"
    }
   ],
   "source": [
    "import matplotlib.pyplot as plt\n",
    "# Assuming 'clf' is your trained Random Forest classifier\n",
    "feature_importances = rf_classifier.feature_importances_\n",
    "\n",
    "# Visualize feature importances\n",
    "plt.bar(range(len(feature_importances)), feature_importances)\n",
    "plt.xlabel('Feature Index')\n",
    "plt.ylabel('Feature Importance')\n",
    "plt.title('Feature Importance in Random Forest')\n",
    "plt.show()\n",
    "plt.savefig('random_forest_feature_importance.png')"
   ],
   "metadata": {
    "collapsed": false,
    "ExecuteTime": {
     "end_time": "2023-12-04T15:21:16.078696Z",
     "start_time": "2023-12-04T15:21:12.474184Z"
    }
   }
  },
  {
   "cell_type": "code",
   "execution_count": 14,
   "outputs": [],
   "source": [
    "from sklearn.inspection import PartialDependenceDisplay\n",
    "\n",
    "features = [0, 1, 2, 3, 4, 5]  \n",
    "X_train_features = labels\n",
    "# Visualize partial dependence plots\n",
    "PartialDependenceDisplay(rf_classifier, feature_names=X_train_features, features=features, target_idx=1, deciles=features)\n",
    "plt.show()\n"
   ],
   "metadata": {
    "collapsed": false,
    "ExecuteTime": {
     "end_time": "2023-12-04T15:31:58.537648Z",
     "start_time": "2023-12-04T15:31:58.531043Z"
    }
   }
  },
  {
   "cell_type": "code",
   "execution_count": null,
   "outputs": [],
   "source": [],
   "metadata": {
    "collapsed": false
   }
  }
 ],
 "metadata": {
  "kernelspec": {
   "display_name": "Python 3 (ipykernel)",
   "language": "python",
   "name": "python3"
  },
  "language_info": {
   "codemirror_mode": {
    "name": "ipython",
    "version": 3
   },
   "file_extension": ".py",
   "mimetype": "text/x-python",
   "name": "python",
   "nbconvert_exporter": "python",
   "pygments_lexer": "ipython3",
   "version": "3.11.5"
  }
 },
 "nbformat": 4,
 "nbformat_minor": 2
}
